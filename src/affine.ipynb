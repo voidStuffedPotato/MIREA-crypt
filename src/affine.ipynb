{
 "cells": [
  {
   "cell_type": "markdown",
   "metadata": {},
   "source": [
    "#  Афинное шифрование\n",
    "\n",
    "\n",
    "\n",
    "## Шифрование:\n",
    "\n",
    "Символы алфавита нумеруются от $0$ до $N-1$, затем каждый символ сообщения преобразуются по формуле\n",
    "$ x_{\\text{шифр}} = a * x_{\\text{сообщ.}} + b $, где $k = (a ,b) \\in K$ - ключ шифрования, $(a, N) = 1$\n",
    "\n",
    "Функция `encrypt(message, a, b)` принимает в качестве аргументов сообщение и ключ $(a, b)$. Возвращает шифротекст.\n",
    "\n",
    "## Расшифрование\n",
    "\n",
    "Символы шифротекста преобразуются по формуле $ x_{\\text{сообщ}} = a^{-1}\\cdot(x_{\\text{шифр}} - b), k = (a, b) \\in K$ - ключ шифрования\n",
    "\n",
    "Функция `decrypt(cipher, a, b)` принимает в качестве аргументов шифротекст и ключ $(a, b)$\n",
    "возвращает сообщение."
   ]
  },
  {
   "cell_type": "code",
   "execution_count": 106,
   "metadata": {},
   "outputs": [],
   "source": [
    "from collections import defaultdict\n",
    "\n",
    "LETTERS = 'АБВГДЕЁЖЗИЙКЛМНОПРСТУФХЦЧШЩЪЫЬЭЮЯ'\n",
    "MODULO = len(LETTERS)\n",
    "\n",
    "def gcd(a: int, b: int) -> int:\n",
    "    if a != 0:\n",
    "        return gcd(b % a, a)\n",
    "    else:\n",
    "        return b\n",
    "    \n",
    "def phi(x: int):\n",
    "    if x < 1:\n",
    "        raise ArithmeticError(\"x should be natural\")\n",
    "    def next_prime(x: int):\n",
    "        if x < 4:\n",
    "            return x\n",
    "        for i in range(2, x + 1):\n",
    "            if x % i == 0:\n",
    "                return i\n",
    "    ret_val = 1\n",
    "            \n",
    "    while x > 1:\n",
    "        prime = next_prime(x)\n",
    "        cnt = 0\n",
    "        while x % prime == 0:\n",
    "            x //= prime\n",
    "            cnt += 1\n",
    "        ret_val *= (prime ** cnt - prime ** (cnt - 1))\n",
    "    return ret_val\n",
    "\n",
    "def inverse(x, mod):\n",
    "    if gcd(x, mod) != 1:\n",
    "        raise ArithmeticError(\"(x, mod) should be 1\")\n",
    "    return pow(x, (phi(mod) - 1), mod)\n",
    "\n",
    "def encrypt(message: str, a: int, b: int):\n",
    "    message = message.upper()\n",
    "    code = map(lambda x: LETTERS.index(x), list(message))\n",
    "    cipher = map(lambda x: (a * x + b) % MODULO, list(code))\n",
    "    return ''.join(map(lambda x: LETTERS[x], cipher))\n",
    "\n",
    "def decrypt(cipher: str, a: int, b: int):\n",
    "    cipher = cipher.upper()\n",
    "    code = map(lambda x: LETTERS.index(x), list(cipher))\n",
    "    message = map(lambda x: (inverse(a, MODULO) * (x - b)) % MODULO, list(code))\n",
    "    return ''.join(map(lambda x: LETTERS[x], message))"
   ]
  },
  {
   "cell_type": "code",
   "execution_count": 107,
   "metadata": {},
   "outputs": [
    {
     "data": {
      "text/plain": [
       "'МЛЭЛНЛМГХЯАВ'"
      ]
     },
     "execution_count": 107,
     "metadata": {},
     "output_type": "execute_result"
    }
   ],
   "source": [
    "encrypt('ВОЛОХОВАРТЁМ', a=5, b=3)"
   ]
  },
  {
   "cell_type": "code",
   "execution_count": 108,
   "metadata": {},
   "outputs": [
    {
     "data": {
      "text/plain": [
       "'ВОЛОХОВАРТЁМ'"
      ]
     },
     "execution_count": 108,
     "metadata": {},
     "output_type": "execute_result"
    }
   ],
   "source": [
    "decrypt('МЛЭЛНЛМГХЯАВ', a=5, b=3)"
   ]
  }
 ],
 "metadata": {
  "kernelspec": {
   "display_name": "Python 3",
   "language": "python",
   "name": "python3"
  },
  "language_info": {
   "codemirror_mode": {
    "name": "ipython",
    "version": 3
   },
   "file_extension": ".py",
   "mimetype": "text/x-python",
   "name": "python",
   "nbconvert_exporter": "python",
   "pygments_lexer": "ipython3",
   "version": "3.7.6"
  }
 },
 "nbformat": 4,
 "nbformat_minor": 4
}
